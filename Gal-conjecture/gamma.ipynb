{
 "cells": [
  {
   "cell_type": "code",
   "execution_count": 1,
   "metadata": {},
   "outputs": [],
   "source": [
    "import networkx as nx\n",
    "import random\n",
    "import numpy as np\n",
    "from numpy.linalg import matrix_power\n",
    "from statistics import mean\n",
    "from collections import Counter\n",
    "import math\n",
    "import matplotlib.pyplot as plt\n",
    "import torch\n",
    "from torch import nn"
   ]
  },
  {
   "cell_type": "code",
   "execution_count": 2,
   "metadata": {},
   "outputs": [],
   "source": [
    "N = 10   # Number of vertices in the graph.\n",
    "M = N*(N-1)//2  # Number of edges in the graph.\n",
    "punish_value = 100000000"
   ]
  },
  {
   "cell_type": "code",
   "execution_count": 3,
   "metadata": {},
   "outputs": [],
   "source": [
    "class MYModel(nn.Module):\n",
    "    def __init__(self, layer_dims):\n",
    "        super().__init__()\n",
    "\n",
    "        # Deal with the state and one-hot move vectors separately, since we can do this efficiently.\n",
    "        self.first_state = nn.Linear(M, layer_dims[0])\n",
    "        self.first_move = nn.Linear(M, layer_dims[0], bias=False)\n",
    "\n",
    "        self.layers = nn.ModuleList([\n",
    "            nn.Linear(a, b)\n",
    "            for a, b in zip(layer_dims, layer_dims[1:])\n",
    "        ])\n",
    "\n",
    "        self.fully_conn = nn.Linear(layer_dims[-1], 1)\n",
    "\n",
    "    def forward(self, state, move):\n",
    "        x = self.first_state(state) + self.first_move(move)\n",
    "        x = nn.functional.relu(x)\n",
    "\n",
    "        for linear in self.layers:\n",
    "            x = linear(x)\n",
    "            x = nn.functional.relu(x)\n",
    "\n",
    "        x = self.fully_conn(x)\n",
    "        x = torch.sigmoid(x)\n",
    "        return x"
   ]
  },
  {
   "cell_type": "code",
   "execution_count": 4,
   "metadata": {},
   "outputs": [],
   "source": [
    "def board_to_adj(board):\n",
    "    \"\"\"\n",
    "    Input: A tensor of shape (*, M), giving a (batched) 01-sequence of edges.\n",
    "    Output: A tensor of shape (*, N, N), giving a (batched) adjacency matrix.\n",
    "    \"\"\"\n",
    "    adj = np.zeros([*board.shape[:-1], N, N], dtype=np.int8)\n",
    "    count = 0\n",
    "    for i in range(N):\n",
    "        for j in range(i+1, N):\n",
    "            adj[..., i, j] = adj[..., j, i] = board[..., count] != 0\n",
    "            count += 1\n",
    "\n",
    "    return adj\n",
    "\n",
    "\n",
    "def display_adj(adj):\n",
    "    #print(adj)\n",
    "    G = nx.convert_matrix.from_numpy_array(adj)\n",
    "    plt.clf()\n",
    "    plt.axis('equal')\n",
    "    nx.draw_circular(G)\n",
    "    plt.savefig(\"mygraph.png\")\n",
    "\n",
    "board = np.zeros((M,))\n",
    "adj = board_to_adj(board)"
   ]
  },
  {
   "cell_type": "code",
   "execution_count": 5,
   "metadata": {},
   "outputs": [],
   "source": [
    "def f_vector(adj,cliques=False):\n",
    "    G = nx.convert_matrix.from_numpy_array(adj)\n",
    "    list_of_all_cliques = list(nx.enumerate_all_cliques(G))\n",
    "    list_faces_and_count= sorted(Counter(np.array([len(elm) for elm in list_of_all_cliques])).items())\n",
    "    d = max(list_faces_and_count)[0]\n",
    "    f_vec = [(pair[1]) for pair in list_faces_and_count]\n",
    "    f_vec.insert(0,1)\n",
    "    \n",
    "    if cliques == True:\n",
    "        return f_vec, d, list_of_all_cliques\n",
    "    else:\n",
    "        return f_vec, d\n"
   ]
  },
  {
   "cell_type": "code",
   "execution_count": 6,
   "metadata": {},
   "outputs": [],
   "source": [
    "def h_vector(f_vec):\n",
    "    h_vec = []\n",
    "    d = f_vec[1]\n",
    "\n",
    "    for k in range(d+1):\n",
    "        h_k = 0\n",
    "        for i in range(k+1):\n",
    "            h_k += (-1)**(k-i)*math.comb(d-i,k-i)*f_vec[0][i]\n",
    "        h_vec.append(h_k)\n",
    "    \n",
    "    return h_vec\n"
   ]
  },
  {
   "cell_type": "code",
   "execution_count": 7,
   "metadata": {},
   "outputs": [],
   "source": [
    "def is_symmetric(h_vec):\n",
    "    split_index = (len(h_vec)-1)//2\n",
    "    is_symm = True\n",
    "    \n",
    "    if split_index % 2 != 0:\n",
    "        for i in range(split_index):\n",
    "            if h_vec[i] == h_vec[-(i+1)]:\n",
    "                continue\n",
    "            else:\n",
    "                is_symm = False\n",
    "                break\n",
    "    elif split_index % 2 == 0:\n",
    "        for i in range(split_index+1):\n",
    "            if h_vec[i] == h_vec[-(i+1)]:\n",
    "                continue\n",
    "            else:\n",
    "                is_symm = False\n",
    "                break\n",
    "    \n",
    "    return is_symm"
   ]
  },
  {
   "cell_type": "code",
   "execution_count": 8,
   "metadata": {},
   "outputs": [
    {
     "data": {
      "text/plain": [
       "([1, 4, 4], 2)"
      ]
     },
     "execution_count": 8,
     "metadata": {},
     "output_type": "execute_result"
    }
   ],
   "source": [
    "adj = np.array([[0,1,1,0],\n",
    "                [1,0,0,1],\n",
    "                [1,0,0,1],\n",
    "                [0,1,1,0],])\n",
    "f_vec = f_vector(adj)\n",
    "f_vec"
   ]
  },
  {
   "cell_type": "code",
   "execution_count": 9,
   "metadata": {},
   "outputs": [
    {
     "data": {
      "text/plain": [
       "[1, 2, 1]"
      ]
     },
     "execution_count": 9,
     "metadata": {},
     "output_type": "execute_result"
    }
   ],
   "source": [
    "h_vec = h_vector(f_vec)\n",
    "h_vec"
   ]
  },
  {
   "cell_type": "code",
   "execution_count": 10,
   "metadata": {},
   "outputs": [
    {
     "data": {
      "text/plain": [
       "True"
      ]
     },
     "execution_count": 10,
     "metadata": {},
     "output_type": "execute_result"
    }
   ],
   "source": [
    "is_symmetric(h_vec)"
   ]
  },
  {
   "cell_type": "code",
   "execution_count": 11,
   "metadata": {},
   "outputs": [],
   "source": [
    "def play_games(agent, k_games):\n",
    "    \"\"\"\n",
    "    Play k_games using the agent to give probability distributions on each move.\n",
    "    \"\"\"\n",
    "\n",
    "    board = np.zeros((k_games, M), dtype=np.float32)\n",
    "    moveid = torch.eye(M)\n",
    "\n",
    "    for step in range(M):\n",
    "        with torch.no_grad():\n",
    "          prob = agent(torch.from_numpy(board), moveid[step:step+1, :]).view(k_games).numpy()\n",
    "\n",
    "        board[:, step] = np.random.rand(k_games) < prob\n",
    "\n",
    "    return board"
   ]
  },
  {
   "cell_type": "code",
   "execution_count": 12,
   "metadata": {},
   "outputs": [],
   "source": [
    "def reinforce_games(\n",
    "    model,\n",
    "    optimiser,\n",
    "    games,           # (n_games, M)\n",
    "    batch_size=90,\n",
    "):\n",
    "    \"\"\"\n",
    "    Given a list of completed games, reinforce each move in each game.\n",
    "    \"\"\"\n",
    "    n_games, _ = games.shape\n",
    "    #moveid = torch.eye(M)\n",
    "\n",
    "    # Unpack the games into (state, move, actions).\n",
    "    states = torch.zeros((n_games, M, M))\n",
    "    moveids = torch.zeros((n_games, M, M))\n",
    "    actions = torch.zeros((n_games, M, 1))\n",
    "    for t in range(M):\n",
    "        moveids[:, t, t] = 1\n",
    "        states[:, t+1:, t] = torch.from_numpy(games[:, None, t])\n",
    "        actions[:, t, 0] = torch.from_numpy(games[:, t])\n",
    "\n",
    "    # Reshape these so that we can shuffle the moves between games.\n",
    "    states = states.flatten(end_dim=1)\n",
    "    moveids = moveids.flatten(end_dim=1)\n",
    "    actions = actions.flatten(end_dim=1)\n",
    "\n",
    "    # Reinforce\n",
    "    criterion = nn.BCELoss()\n",
    "    shuffle = torch.randperm(n_games * M)\n",
    "    for i in range(0, n_games * M, batch_size):\n",
    "        batch = shuffle[i:i+batch_size]\n",
    "\n",
    "        optimiser.zero_grad()\n",
    "        predicted = model(states[batch], moveids[batch])\n",
    "        loss = criterion(predicted, actions[batch])\n",
    "        loss.backward()\n",
    "        optimiser.step()"
   ]
  },
  {
   "cell_type": "code",
   "execution_count": 13,
   "metadata": {},
   "outputs": [],
   "source": [
    "# Number of new games to play each round.\n",
    "K_GAMES = 50\n",
    "\n",
    "# Create a fresh network, and specify its architecture.\n",
    "model = MYModel([32, 12, 4])\n",
    "\n",
    "# The learning rate should be increased if convergence is too slow, but decreased if\n",
    "# the algorithm keeps getting stuck in local minima.\n",
    "optimiser = torch.optim.Adam(model.parameters(), lr=0.0009)\n",
    "\n",
    "# The percentage of K_GAMES to reinforce.\n",
    "KEEP_TOP = int(round(K_GAMES * 0.1))\n",
    "\n",
    "# The scoring function to use (needs to be defined!!!)\n",
    "def score_fn(adj):\n",
    "\n",
    "    \"\"\"\n",
    "    # Check if graph is connected\n",
    "    #conn = Main.check_connected(adj)\n",
    "    \n",
    "    if np.sum(adj) < N or np.sum(adj) > 26:\n",
    "        return punish_value\n",
    "    else:\n",
    "        G = nx.convert_matrix.from_numpy_array(adj)\n",
    "        if nx.node_connectivity(G) == 0:\n",
    "            return int(punish_value/2)\n",
    "        if nx.node_connectivity(G) == 1:\n",
    "            return int(punish_value/4)\n",
    "        \n",
    "        \n",
    "        l = h_star_from_adj(adj)\n",
    "        #print(l)\n",
    "        if np.sum(l)==0:\n",
    "            return punish_value\n",
    "        else:\n",
    "            if not is_unimodal(l):\n",
    "                return -1000\n",
    "            else:\n",
    "                max_pos = l.index(max(l))\n",
    "                if len(l) > max_pos+4:\n",
    "                    return min([l[max_pos-1]-l[max_pos-2],l[max_pos-2]-l[max_pos-3],l[max_pos-3]-l[max_pos-4]])\n",
    "                else:\n",
    "                    return int(punish_value/2)\n",
    "        \"\"\"\n",
    "        "
   ]
  },
  {
   "cell_type": "code",
   "execution_count": null,
   "metadata": {},
   "outputs": [],
   "source": [
    "# This cell can be re-run without resetting the model. \n",
    "top_games = np.ones((0, M), dtype=np.float32)\n",
    "\n",
    "def run():\n",
    "    # Keep only the top so many games here.\n",
    "    global top_games\n",
    "    for i in range(30):\n",
    "        # Play some new games.\n",
    "        new_games = play_games(model, K_GAMES)\n",
    "\n",
    "        # Mix these games into our pot of the best games so far.\n",
    "        games = np.concatenate([top_games, new_games], axis=0)\n",
    "\n",
    "        # Score the games, and rearrange into descending order by score.\n",
    "        scores = []\n",
    "        for game in games:\n",
    "            adj = board_to_adj(game)\n",
    "            score = score_fn(adj)\n",
    "            scores.append(score)\n",
    "        \n",
    "        scores = np.array(scores).astype(int)\n",
    "        order = np.argsort(scores)[:KEEP_TOP]\n",
    "        top_games = games[order]\n",
    "\n",
    "        \"\"\"\n",
    "        if scores[order[0]] < 0:\n",
    "            print(\"Found somehting not unimodal:\")\n",
    "            print(board_to_adj(top_games[0]))\n",
    "            display_adj(board_to_adj(top_games[0]))\n",
    "            break\n",
    "        \"\"\"\n",
    "        \n",
    "        # Train\n",
    "        reinforce_games(model, optimiser, top_games, batch_size=90)\n",
    "\n",
    "        # Display progress\n",
    "        top_adj = board_to_adj(top_games[:3])\n",
    "        print(\"*****************************\")\n",
    "        print(\"Round: \",i)\n",
    "        for game in top_adj:\n",
    "            print(f\"Scores: {score_fn(game)}\")\n",
    "            #print(f\"Coeff's: {h_star_from_adj(game)}\")\n",
    "\n",
    "        display_adj(board_to_adj(top_games[0]))"
   ]
  }
 ],
 "metadata": {
  "kernelspec": {
   "display_name": "Python 3",
   "language": "python",
   "name": "python3"
  },
  "language_info": {
   "codemirror_mode": {
    "name": "ipython",
    "version": 3
   },
   "file_extension": ".py",
   "mimetype": "text/x-python",
   "name": "python",
   "nbconvert_exporter": "python",
   "pygments_lexer": "ipython3",
   "version": "3.10.12"
  }
 },
 "nbformat": 4,
 "nbformat_minor": 2
}
